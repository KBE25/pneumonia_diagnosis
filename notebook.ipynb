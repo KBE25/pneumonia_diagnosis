{
  "cells": [
    {
      "cell_type": "markdown",
      "metadata": {
        "id": "view-in-github",
        "colab_type": "text"
      },
      "source": [
        "<a href=\"https://colab.research.google.com/github/KBE25/pneumonia_diagnosis/blob/main/notebook.ipynb\" target=\"_parent\"><img src=\"https://colab.research.google.com/assets/colab-badge.svg\" alt=\"Open In Colab\"/></a>"
      ]
    },
    {
      "cell_type": "markdown",
      "id": "f79d0d0b-d5d0-431a-ba5c-bfa4507a4551",
      "metadata": {
        "id": "f79d0d0b-d5d0-431a-ba5c-bfa4507a4551"
      },
      "source": [
        "# Business Understanding"
      ]
    },
    {
      "cell_type": "code",
      "execution_count": null,
      "id": "09994750-0d46-46f8-be78-58803612c28a",
      "metadata": {
        "id": "09994750-0d46-46f8-be78-58803612c28a"
      },
      "outputs": [],
      "source": []
    },
    {
      "cell_type": "code",
      "execution_count": null,
      "id": "33f785ed-c478-4367-9100-bcd6880c51b4",
      "metadata": {
        "id": "33f785ed-c478-4367-9100-bcd6880c51b4"
      },
      "outputs": [],
      "source": []
    },
    {
      "cell_type": "markdown",
      "id": "dcc2ab50-ee06-43c5-a2f1-5bf5df742d4b",
      "metadata": {
        "id": "dcc2ab50-ee06-43c5-a2f1-5bf5df742d4b"
      },
      "source": [
        "# Data Understanding"
      ]
    },
    {
      "cell_type": "code",
      "execution_count": null,
      "id": "6a3c20b1-74c2-4fc5-9628-596da543d8d2",
      "metadata": {
        "id": "6a3c20b1-74c2-4fc5-9628-596da543d8d2"
      },
      "outputs": [],
      "source": []
    },
    {
      "cell_type": "code",
      "execution_count": null,
      "id": "277e3b99-d74f-4748-8999-a29afe48ffb9",
      "metadata": {
        "id": "277e3b99-d74f-4748-8999-a29afe48ffb9"
      },
      "outputs": [],
      "source": []
    },
    {
      "cell_type": "markdown",
      "id": "7ac6095b-1148-445d-9876-f1dce3817171",
      "metadata": {
        "id": "7ac6095b-1148-445d-9876-f1dce3817171"
      },
      "source": [
        "## Data Preparation"
      ]
    },
    {
      "cell_type": "code",
      "source": [
        "#Load programs needed\n",
        "import os\n",
        "import numpy as np\n",
        "import pandas as pd\n",
        "import matplotlib.pyplot as plt\n",
        "import seaborn as sns\n",
        "from PIL import Image\n",
        "from sklearn.model_selection import train_test_split\n",
        "import tensorflow as tf\n",
        "from tensorflow.keras.preprocessing.image import ImageDataGenerator\n",
        "import kagglehub"
      ],
      "metadata": {
        "id": "YETTBCvRaPIz"
      },
      "id": "YETTBCvRaPIz",
      "execution_count": 7,
      "outputs": []
    },
    {
      "cell_type": "code",
      "source": [
        "# Download latest dataset version\n",
        "path = kagglehub.dataset_download(\"paultimothymooney/chest-xray-pneumonia\")\n",
        "\n",
        "# Identify the path for the dataset\n",
        "print(\"Path to dataset files:\", path)"
      ],
      "metadata": {
        "colab": {
          "base_uri": "https://localhost:8080/"
        },
        "id": "qchZ27xSWE0c",
        "outputId": "a9b74ac4-0727-4a3d-993b-0233e8981d3d"
      },
      "id": "qchZ27xSWE0c",
      "execution_count": 8,
      "outputs": [
        {
          "output_type": "stream",
          "name": "stdout",
          "text": [
            "Path to dataset files: /kaggle/input/chest-xray-pneumonia\n"
          ]
        }
      ]
    },
    {
      "cell_type": "code",
      "source": [
        "# Define main data directories based on the Colab path\n",
        "base_dir = '/kaggle/input/chest-xray-pneumonia/chest_xray'\n",
        "train_dir = os.path.join(base_dir, 'train')\n",
        "test_dir = os.path.join(base_dir, 'test')\n",
        "val_dir = os.path.join(base_dir, 'val')\n",
        "\n",
        "# List the subdirectories to confirm the classes available within the data\n",
        "print(\"Training data classes:\", os.listdir(train_dir))\n",
        "print(\"Testing data classes:\", os.listdir(test_dir))\n",
        "print(\"Validation data classes:\", os.listdir(val_dir))\n"
      ],
      "metadata": {
        "colab": {
          "base_uri": "https://localhost:8080/"
        },
        "id": "iLxLzgKrZOKz",
        "outputId": "025f28a8-5717-425a-b770-84dd6e2f4940"
      },
      "id": "iLxLzgKrZOKz",
      "execution_count": 9,
      "outputs": [
        {
          "output_type": "stream",
          "name": "stdout",
          "text": [
            "Training data classes: ['PNEUMONIA', 'NORMAL']\n",
            "Validation data classes: ['PNEUMONIA', 'NORMAL']\n",
            "Testing data classes: ['PNEUMONIA', 'NORMAL']\n"
          ]
        }
      ]
    },
    {
      "cell_type": "markdown",
      "source": [
        "## Exploratory Data Analysis"
      ],
      "metadata": {
        "id": "arDrAXCsAawm"
      },
      "id": "arDrAXCsAawm"
    },
    {
      "cell_type": "markdown",
      "source": [
        "###1. Class Distribution:###\n",
        "\n",
        "The next step will allow us to see how many images we have in each class ('NORMAL' and 'PNEUMONIA') within the training, test and validation datasets.\n",
        "This step is important to complete as class imbalances can significanyly affect the model training.\n"
      ],
      "metadata": {
        "id": "GcFqqH7iAQls"
      },
      "id": "GcFqqH7iAQls"
    },
    {
      "cell_type": "code",
      "execution_count": 14,
      "id": "41a7b876-c547-4e53-92b6-701f9132c04c",
      "metadata": {
        "id": "41a7b876-c547-4e53-92b6-701f9132c04c"
      },
      "outputs": [],
      "source": [
        "# Function to plot the distribution of 'NORMAL' and 'PNEUMONIA' classes within a specified data directory\n",
        "def plot_class_distribution(data_dir, title):\n",
        "  \"\"\"\n",
        "    This definition visualizes and prints the number of images belonging to the 'NORMAL' and 'PNEUMONIA' classes within a given directory\n",
        "\n",
        "    Arguments:\n",
        "        data_dir (str): The path to the directory containing subdirectories named 'NORMAL' and 'PNEUMONIA'\n",
        "        title (str): The title to be displayed on the plot and in the print output\n",
        "    \"\"\"\n",
        "\n",
        "  # Construct the paths to the 'NORMAL' and 'PNEUMONIA' subdirectories and count the number of files (images) in each subdirectory\n",
        "  normal_count = len(os.listdir(os.path.join(data_dir, 'NORMAL')))\n",
        "  pneumonia_count = len(os.listdir(os.path.join(data_dir, 'PNEUMONIA')))\n",
        "\n",
        "  # Store the counts and corresponding labels for plotting\n",
        "  counts = [normal_count, pneumonia_count]\n",
        "  labels = ['NORMAL', 'PNEUMONIA']\n",
        "\n",
        "  # Create a figure and axes for the bar plot\n",
        "  plt.figure(figsize=(8, 6))\n",
        "  sns.barplot(x=labels, y=counts)\n",
        "  # Set the title of the plot\n",
        "  plt.title(f'Class Distribution in {title} Set')\n",
        "  # Label the y-axis\n",
        "  plt.ylabel('Number of Images')\n",
        "  plt.show()\n",
        "\n",
        "  # Print the class counts for the specified dataset\n",
        "  print(f\"{title} Set: NORMAL - {normal_count}, PNEUMONIA - {pneumonia_count}\")\n"
      ]
    },
    {
      "cell_type": "code",
      "execution_count": 15,
      "id": "aa2ecd63-5596-4117-9d69-b45a111569ff",
      "metadata": {
        "id": "aa2ecd63-5596-4117-9d69-b45a111569ff",
        "colab": {
          "base_uri": "https://localhost:8080/",
          "height": 1000
        },
        "outputId": "8b931f59-a089-4bc7-ae60-b9acfb2c9126"
      },
      "outputs": [
        {
          "output_type": "display_data",
          "data": {
            "text/plain": [
              "<Figure size 800x600 with 1 Axes>"
            ],
            "image/png": "[encoded data removed]"
          },
          "metadata": {}
        },
        {
          "output_type": "stream",
          "name": "stdout",
          "text": [
            "Training Set: NORMAL - 1341, PNEUMONIA - 3875\n"
          ]
        },
        {
          "output_type": "display_data",
          "data": {
            "text/plain": [
              "<Figure size 800x600 with 1 Axes>"
            ],
            "image/png": "[encoded data removed]"
          },
          "metadata": {}
        },
        {
          "output_type": "stream",
          "name": "stdout",
          "text": [
            "Testing Set: NORMAL - 234, PNEUMONIA - 390\n"
          ]
        },
        {
          "output_type": "display_data",
          "data": {
            "text/plain": [
              "<Figure size 800x600 with 1 Axes>"
            ],
            "image/png": "[encoded data removed]"
          },
          "metadata": {}
        },
        {
          "output_type": "stream",
          "name": "stdout",
          "text": [
            "Validation Set: NORMAL - 8, PNEUMONIA - 8\n"
          ]
        }
      ],
      "source": [
        "# Call the function to visualize the class distribution for each dataset.\n",
        "plot_class_distribution(train_dir, 'Training')\n",
        "plot_class_distribution(test_dir, 'Testing')\n",
        "plot_class_distribution(val_dir, 'Validation')"
      ]
    },
    {
      "cell_type": "markdown",
      "id": "17beb783-483c-47bf-b67a-0bbed7aef3ed",
      "metadata": {
        "id": "17beb783-483c-47bf-b67a-0bbed7aef3ed"
      },
      "source": [
        "# Exploratory Data Analysis"
      ]
    },
    {
      "cell_type": "code",
      "execution_count": null,
      "id": "289c94c2-a847-4faf-a943-5ff52e93c0cb",
      "metadata": {
        "id": "289c94c2-a847-4faf-a943-5ff52e93c0cb"
      },
      "outputs": [],
      "source": []
    },
    {
      "cell_type": "code",
      "execution_count": null,
      "id": "55b29c33-e32f-47aa-91d1-84b5b40479a2",
      "metadata": {
        "id": "55b29c33-e32f-47aa-91d1-84b5b40479a2"
      },
      "outputs": [],
      "source": []
    },
    {
      "cell_type": "code",
      "execution_count": null,
      "id": "6abb83ef-2b74-4b76-902d-be32956c7dcd",
      "metadata": {
        "id": "6abb83ef-2b74-4b76-902d-be32956c7dcd"
      },
      "outputs": [],
      "source": []
    },
    {
      "cell_type": "markdown",
      "id": "091a64f9-4fd8-4140-b4cf-fae4fd1b3b22",
      "metadata": {
        "id": "091a64f9-4fd8-4140-b4cf-fae4fd1b3b22"
      },
      "source": [
        "# Conclusions"
      ]
    },
    {
      "cell_type": "code",
      "execution_count": null,
      "id": "a7afe566-1f84-4965-8d43-f1128c9f5fa4",
      "metadata": {
        "id": "a7afe566-1f84-4965-8d43-f1128c9f5fa4"
      },
      "outputs": [],
      "source": []
    },
    {
      "cell_type": "markdown",
      "id": "1323335f-abae-4ed9-9057-7afc3cb28c44",
      "metadata": {
        "id": "1323335f-abae-4ed9-9057-7afc3cb28c44"
      },
      "source": [
        "## Limitations"
      ]
    },
    {
      "cell_type": "code",
      "execution_count": null,
      "id": "43721031-e699-4785-b682-51b6a78b694b",
      "metadata": {
        "id": "43721031-e699-4785-b682-51b6a78b694b"
      },
      "outputs": [],
      "source": []
    },
    {
      "cell_type": "code",
      "execution_count": null,
      "id": "e032932e-1292-48c6-a25b-e602c47201e9",
      "metadata": {
        "id": "e032932e-1292-48c6-a25b-e602c47201e9"
      },
      "outputs": [],
      "source": []
    },
    {
      "cell_type": "code",
      "execution_count": null,
      "id": "21e6596d-8b15-4ec5-afbf-a86550cf55c6",
      "metadata": {
        "id": "21e6596d-8b15-4ec5-afbf-a86550cf55c6"
      },
      "outputs": [],
      "source": []
    },
    {
      "cell_type": "markdown",
      "id": "fd8fac9a-bc1e-4213-9ae6-18369e48bc5d",
      "metadata": {
        "id": "fd8fac9a-bc1e-4213-9ae6-18369e48bc5d"
      },
      "source": [
        "## Recommendations"
      ]
    },
    {
      "cell_type": "code",
      "execution_count": null,
      "id": "bdb8ea82-ce38-4d97-a908-33bc4929dc3f",
      "metadata": {
        "id": "bdb8ea82-ce38-4d97-a908-33bc4929dc3f"
      },
      "outputs": [],
      "source": []
    },
    {
      "cell_type": "code",
      "execution_count": null,
      "id": "36f0bc2e-701e-4598-b9fe-3aa716687804",
      "metadata": {
        "id": "36f0bc2e-701e-4598-b9fe-3aa716687804"
      },
      "outputs": [],
      "source": []
    },
    {
      "cell_type": "code",
      "execution_count": null,
      "id": "bf01c1bd-3c20-4c71-b70e-f0b30284f735",
      "metadata": {
        "id": "bf01c1bd-3c20-4c71-b70e-f0b30284f735"
      },
      "outputs": [],
      "source": []
    },
    {
      "cell_type": "code",
      "execution_count": null,
      "id": "0629dd4b-d201-4712-9347-b543a989fc52",
      "metadata": {
        "id": "0629dd4b-d201-4712-9347-b543a989fc52"
      },
      "outputs": [],
      "source": []
    },
    {
      "cell_type": "markdown",
      "id": "9aac56c1-cda4-4e0a-9dd9-c7e839fce923",
      "metadata": {
        "id": "9aac56c1-cda4-4e0a-9dd9-c7e839fce923"
      },
      "source": [
        "## Next Steps"
      ]
    },
    {
      "cell_type": "code",
      "execution_count": null,
      "id": "65186035-fe87-4d88-96a3-a09edebc26e1",
      "metadata": {
        "id": "65186035-fe87-4d88-96a3-a09edebc26e1"
      },
      "outputs": [],
      "source": []
    },
    {
      "cell_type": "code",
      "execution_count": null,
      "id": "16e57462-e1ce-4deb-b5a7-e09b13a51704",
      "metadata": {
        "id": "16e57462-e1ce-4deb-b5a7-e09b13a51704"
      },
      "outputs": [],
      "source": []
    },
    {
      "cell_type": "code",
      "execution_count": null,
      "id": "100d3455-7c4e-469c-b02f-4c80095105d5",
      "metadata": {
        "id": "100d3455-7c4e-469c-b02f-4c80095105d5"
      },
      "outputs": [],
      "source": []
    },
    {
      "cell_type": "code",
      "execution_count": null,
      "id": "84b25a6a-3e6f-4ffa-82fd-ecb16d4f6eb1",
      "metadata": {
        "id": "84b25a6a-3e6f-4ffa-82fd-ecb16d4f6eb1"
      },
      "outputs": [],
      "source": []
    },
    {
      "cell_type": "code",
      "execution_count": null,
      "id": "e929d5c2-4664-4438-82a6-ae898dcc0fca",
      "metadata": {
        "id": "e929d5c2-4664-4438-82a6-ae898dcc0fca"
      },
      "outputs": [],
      "source": []
    }
  ],
  "metadata": {
    "kernelspec": {
      "display_name": "Python (learn-env)",
      "language": "python",
      "name": "learn-env"
    },
    "language_info": {
      "codemirror_mode": {
        "name": "ipython",
        "version": 3
      },
      "file_extension": ".py",
      "mimetype": "text/x-python",
      "name": "python",
      "nbconvert_exporter": "python",
      "pygments_lexer": "ipython3",
      "version": "3.9.19"
    },
    "colab": {
      "provenance": [],
      "include_colab_link": true
    }
  },
  "nbformat": 4,
  "nbformat_minor": 5
}